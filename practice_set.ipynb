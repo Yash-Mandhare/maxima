{
 "cells": [
  {
   "cell_type": "code",
   "execution_count": 2,
   "id": "71a20cd3",
   "metadata": {},
   "outputs": [],
   "source": [
    "from sympy import *\n",
    "#10 practiacl \n",
    "# Q.1\n",
    "#using netwon raphson methon sovle xlogx=12.34 with x0=10"
   ]
  },
  {
   "cell_type": "code",
   "execution_count": 9,
   "id": "cd801a5d",
   "metadata": {},
   "outputs": [
    {
     "name": "stdout",
     "output_type": "stream",
     "text": [
      "Enter Guess: 10\n",
      "Tolerable Error: 0.0001\n",
      "Maximum Step: 5\n",
      "\n",
      "\n",
      "*** NEWTON RAPHSON METHOD IMPLEMENTATION ***\n",
      "Iteration-1, x1 = 18.203572 and f(x1) = 40.479810\n",
      "Iteration-2, x1 = 39.490610 and f(x1) = 132.829965\n",
      "Iteration-3, x1 = 89.126948 and f(x1) = 387.845501\n",
      "Iteration-4, x1 = 200.255498 and f(x1) = 1048.932847\n",
      "Iteration-5, x1 = 444.216402 and f(x1) = 2695.741708\n",
      "\n",
      "Not Convergent.\n"
     ]
    }
   ],
   "source": [
    "def f(x):\n",
    "    return x*log(x)-12.34\n",
    "\n",
    "def g(x):\n",
    "    return 1-log(x)\n",
    "\n",
    "def newtonRaphson(x0,e,N):\n",
    "    print('\\n\\n*** NEWTON RAPHSON METHOD IMPLEMENTATION ***')\n",
    "    step = 1\n",
    "    flag = 1\n",
    "    condition = True \n",
    "    while condition:\n",
    "        if g(x0) == 0.0:\n",
    "            print('Divide by zero error!')\n",
    "            break\n",
    "\n",
    "        x1 = x0 - f(x0)/g(x0)                                                        #ha formula aahe newton raphson methon\n",
    "        print('Iteration-%d, x1 = %0.6f and f(x1) = %0.6f' % (step, x1, f(x1))) \n",
    "        x0 = x1\n",
    "        step = step + 1\n",
    "\n",
    "        if step > N:\n",
    "            flag = 0\n",
    "            break\n",
    "\n",
    "        condition = abs(f(x1)) > e\n",
    "\n",
    "    if flag==1:\n",
    "        print('\\nRequired root is: %0.8f' % x1)\n",
    "    else:\n",
    "        print('\\nNot Convergent.')\n",
    "\n",
    "x0 = input('Enter Guess: ')\n",
    "e = input('Tolerable Error: ')\n",
    "N = input('Maximum Step: ')\n",
    "\n",
    "x0 = float(x0)\n",
    "e = float(e)\n",
    "\n",
    "N = int(N)\n",
    "\n",
    "newtonRaphson(x0,e,N)"
   ]
  },
  {
   "cell_type": "code",
   "execution_count": 10,
   "id": "ebb514fa",
   "metadata": {},
   "outputs": [],
   "source": [
    "#Q.3\n",
    "#find approximate root of equation f(x)=x^3-9x+1 in the  interval(2,3) by regular false poition "
   ]
  },
  {
   "cell_type": "code",
   "execution_count": 11,
   "id": "0f307757",
   "metadata": {},
   "outputs": [
    {
     "name": "stdout",
     "output_type": "stream",
     "text": [
      "First Guess: 2\n",
      "Second Guess: 3\n",
      "Tolerable Error: 0.0001\n",
      "\n",
      "\n",
      "*** FALSE POSITION METHOD IMPLEMENTATION ***\n",
      "Iteration-1, x2 = 2.900000 and f(x2) = -0.711000\n",
      "Iteration-2, x2 = 2.941555 and f(x2) = -0.021473\n",
      "Iteration-3, x2 = 2.942783 and f(x2) = -0.000625\n",
      "Iteration-4, x2 = 2.942819 and f(x2) = -0.000018\n",
      "\n",
      "Required root is: 2.94281899\n"
     ]
    }
   ],
   "source": [
    "def f(x):\n",
    "    return x**3-9*x+1\n",
    "\n",
    "def falsePosition(x0,x1,e):\n",
    "    step = 1\n",
    "    print('\\n\\n*** FALSE POSITION METHOD IMPLEMENTATION ***')\n",
    "    condition = True\n",
    "    while condition:\n",
    "        x2 = x0 - (x1-x0) * f(x0)/( f(x1) - f(x0) )                           ##ha formula aahe newton raphson methon\n",
    "        print('Iteration-%d, x2 = %0.6f and f(x2) = %0.6f' % (step, x2, f(x2)))\n",
    "        \n",
    "        if f(x0) * f(x2) < 0:\n",
    "            x1 = x2\n",
    "        else:\n",
    "            x0 = x2\n",
    " \n",
    "        step = step + 1\n",
    "        condition = abs(f(x2)) > e\n",
    " \n",
    "    print('\\nRequired root is: %0.8f' % x2)\n",
    "    \n",
    "    \n",
    "x0 = input('First Guess: ')\n",
    "x1 = input('Second Guess: ')\n",
    "e = input('Tolerable Error: ')\n",
    "\n",
    "x0 = float(x0)\n",
    "x1 = float(x1)\n",
    "e = float(e)\n",
    "\n",
    "if f(x0) * f(x1) > 0.0:\n",
    "    print('Given guess values do not bracket the root.')\n",
    "    print('Try Again with different guess values.')\n",
    "else:\n",
    "    falsePosition(x0,x1,e)"
   ]
  },
  {
   "cell_type": "code",
   "execution_count": 12,
   "id": "f8e15010",
   "metadata": {},
   "outputs": [],
   "source": [
    "#11 practiacl \n",
    "# Q.1\n"
   ]
  },
  {
   "cell_type": "code",
   "execution_count": 13,
   "id": "23c7695d",
   "metadata": {},
   "outputs": [
    {
     "data": {
      "text/plain": [
       "2.6800000000000006"
      ]
     },
     "execution_count": 13,
     "metadata": {},
     "output_type": "execute_result"
    }
   ],
   "source": [
    "def trapezoidal(f,a,b,n):\n",
    "    h = float(b-a) /n\n",
    "\n",
    "    result = f(a) + f(b)\n",
    "\n",
    "    for i in range(1,n):\n",
    "        result = result + 2 * f(a + i*h)\n",
    "\n",
    "    result = (h/2) * result\n",
    "\n",
    "    return(result)\n",
    "def f(x):\n",
    "    return x ** 2\n",
    "trapezoidal(f,0,2,10)"
   ]
  },
  {
   "cell_type": "code",
   "execution_count": 14,
   "id": "e3983883",
   "metadata": {},
   "outputs": [],
   "source": [
    "# Q.3\n"
   ]
  },
  {
   "cell_type": "code",
   "execution_count": 15,
   "id": "b06264f9",
   "metadata": {},
   "outputs": [
    {
     "data": {
      "text/plain": [
       "0.46325156325156325"
      ]
     },
     "execution_count": 15,
     "metadata": {},
     "output_type": "execute_result"
    }
   ],
   "source": [
    "def simpsons13(f,a,b,n):\n",
    "    h = float(b-a) /n\n",
    "    result = f(a) + f(b)\n",
    "    for i in range(1,n):\n",
    "        k = a + i * h\n",
    "        if i%2 == 0:\n",
    "            result = result + 2 * f(k)\n",
    "        else:\n",
    "            result = result + 2 * f(k)\n",
    "    result = (h/3) * result\n",
    "    return(result)\n",
    "from math import*\n",
    "def f(x):\n",
    " return 1/(1+x)\n",
    "simpsons13(f,0,1,6)"
   ]
  },
  {
   "cell_type": "code",
   "execution_count": null,
   "id": "f197de0a",
   "metadata": {},
   "outputs": [],
   "source": []
  }
 ],
 "metadata": {
  "kernelspec": {
   "display_name": "Python 3",
   "language": "python",
   "name": "python3"
  },
  "language_info": {
   "codemirror_mode": {
    "name": "ipython",
    "version": 3
   },
   "file_extension": ".py",
   "mimetype": "text/x-python",
   "name": "python",
   "nbconvert_exporter": "python",
   "pygments_lexer": "ipython3",
   "version": "3.10.1 (tags/v3.10.1:2cd268a, Dec  6 2021, 19:10:37) [MSC v.1929 64 bit (AMD64)]"
  },
  "vscode": {
   "interpreter": {
    "hash": "67fc6fef194cf36bce0053662608d8dfd4442fee508ccaac6ec77adc7e737c2e"
   }
  }
 },
 "nbformat": 4,
 "nbformat_minor": 5
}
